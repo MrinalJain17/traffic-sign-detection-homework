{
 "cells": [
  {
   "cell_type": "markdown",
   "metadata": {},
   "source": [
    "# Computer Vision Assignment - 1"
   ]
  },
  {
   "cell_type": "code",
   "execution_count": 1,
   "metadata": {},
   "outputs": [],
   "source": [
    "import matplotlib.pyplot as plt\n",
    "import numpy as np\n",
    "import torch\n",
    "import torch.nn as nn\n",
    "import torch.nn.functional as F\n",
    "import torch.optim as optim\n",
    "import torchvision\n",
    "from torchvision import transforms\n",
    "\n",
    "from data import data_loaders, AddGaussianNoise\n",
    "from main import Trainer, make_predictions\n",
    "from models import resnet18, resnet50\n",
    "from utils import LabelSmoothingCrossEntropy\n",
    "\n",
    "SEED = 42\n",
    "\n",
    "torch.manual_seed(SEED);\n",
    "\n",
    "results = dict()"
   ]
  },
  {
   "cell_type": "markdown",
   "metadata": {},
   "source": [
    "<a id=\"config-1\" />\n",
    "\n",
    "## Model: Original ResNet-18\n",
    "## Data pre-processing: Normalization, Gaussian Noise"
   ]
  },
  {
   "cell_type": "code",
   "execution_count": 2,
   "metadata": {},
   "outputs": [],
   "source": [
    "# Data parameters\n",
    "num_classes = 43\n",
    "batch_size = 128\n",
    "data_transforms = transforms.Compose([\n",
    "    transforms.Resize((32, 32)),\n",
    "    transforms.ToTensor(),\n",
    "    AddGaussianNoise(),\n",
    "    transforms.Normalize((0.3337, 0.3064, 0.3171), (0.2672, 0.2564, 0.2629)),\n",
    "])\n",
    "\n",
    "train_loader, val_loader = data_loaders(batch_size, data_transforms)"
   ]
  },
  {
   "cell_type": "code",
   "execution_count": 3,
   "metadata": {},
   "outputs": [
    {
     "name": "stdout",
     "output_type": "stream",
     "text": [
      "Epoch 1 \ttrain_loss: 1.006158\tval_loss: 1.5582\tval_accuracy: 59.22%\n",
      "Epoch 2 \ttrain_loss: 0.367290\tval_loss: 1.0774\tval_accuracy: 72.27%\n",
      "Epoch 3 \ttrain_loss: 0.248792\tval_loss: 0.9658\tval_accuracy: 75.63%\n",
      "Epoch 4 \ttrain_loss: 0.215033\tval_loss: 1.0497\tval_accuracy: 74.21%\n",
      "Epoch 5 \ttrain_loss: 0.176475\tval_loss: 1.2094\tval_accuracy: 73.20%\n",
      "Epoch 6 \ttrain_loss: 0.160065\tval_loss: 1.3530\tval_accuracy: 74.86%\n",
      "Epoch 7 \ttrain_loss: 0.160517\tval_loss: 0.9490\tval_accuracy: 80.03%\n",
      "Epoch 8 \ttrain_loss: 0.127927\tval_loss: 1.1632\tval_accuracy: 76.33%\n",
      "Epoch 9 \ttrain_loss: 0.119577\tval_loss: 1.3491\tval_accuracy: 74.29%\n",
      "Epoch 10 \ttrain_loss: 0.135329\tval_loss: 0.9324\tval_accuracy: 78.84%\n",
      "Epoch 11 \ttrain_loss: 0.120783\tval_loss: 1.3980\tval_accuracy: 77.26%\n",
      "Epoch 12 \ttrain_loss: 0.105518\tval_loss: 1.2252\tval_accuracy: 76.56%\n",
      "Epoch 13 \ttrain_loss: 0.087548\tval_loss: 1.1576\tval_accuracy: 76.67%\n",
      "Epoch 14 \ttrain_loss: 0.107305\tval_loss: 1.2855\tval_accuracy: 77.16%\n",
      "Epoch 15 \ttrain_loss: 0.089667\tval_loss: 1.0483\tval_accuracy: 80.62%\n",
      "Epoch 16 \ttrain_loss: 0.104107\tval_loss: 0.9909\tval_accuracy: 80.34%\n",
      "Epoch 17 \ttrain_loss: 0.089360\tval_loss: 1.0465\tval_accuracy: 78.55%\n",
      "Epoch 18 \ttrain_loss: 0.077288\tval_loss: 1.1388\tval_accuracy: 77.24%\n",
      "Epoch 19 \ttrain_loss: 0.083259\tval_loss: 1.0430\tval_accuracy: 80.34%\n",
      "Epoch 20 \ttrain_loss: 0.071574\tval_loss: 1.1467\tval_accuracy: 79.02%\n",
      "Epoch 21 \ttrain_loss: 0.083952\tval_loss: 1.2141\tval_accuracy: 77.03%\n",
      "Epoch 22 \ttrain_loss: 0.083055\tval_loss: 1.0834\tval_accuracy: 77.24%\n",
      "Epoch 23 \ttrain_loss: 0.067605\tval_loss: 1.2244\tval_accuracy: 76.49%\n",
      "Epoch 24 \ttrain_loss: 0.065087\tval_loss: 1.1015\tval_accuracy: 80.21%\n",
      "Epoch 25 \ttrain_loss: 0.058679\tval_loss: 1.1572\tval_accuracy: 77.44%\n",
      "\n",
      "Early stopping. Val loss did not improve for 5 consecutive epochs\n"
     ]
    }
   ],
   "source": [
    "# Training parameters\n",
    "resnet_variant = None  # Default\n",
    "epochs = 50\n",
    "criterion = nn.CrossEntropyLoss()\n",
    "lr = 0.001\n",
    "\n",
    "model = resnet18(variant=resnet_variant, num_classes=num_classes)\n",
    "\n",
    "trainer = Trainer(model, train_loader, val_loader, criterion, lr)\n",
    "trainer.run(epochs)\n",
    "\n",
    "results[\"config_1\"] = {\n",
    "    \"description\": \"Default ResNet, with gaussian noise\",\n",
    "    \"train_loss\": trainer.train_loss,\n",
    "    \"test_loss\": trainer.test_loss,\n",
    "    \"test_accuracy\": trainer.test_accuracy\n",
    "}"
   ]
  },
  {
   "cell_type": "markdown",
   "metadata": {},
   "source": [
    "<a id=\"config-2\" />\n",
    "\n",
    "## Model: Original ResNet-18\n",
    "## Data pre-processing: Only normalization"
   ]
  },
  {
   "cell_type": "code",
   "execution_count": 4,
   "metadata": {},
   "outputs": [],
   "source": [
    "# Data parameters\n",
    "num_classes = 43\n",
    "batch_size = 128\n",
    "data_transforms = None  # Default\n",
    "\n",
    "train_loader, val_loader = data_loaders(batch_size, data_transforms)"
   ]
  },
  {
   "cell_type": "code",
   "execution_count": 5,
   "metadata": {},
   "outputs": [
    {
     "name": "stdout",
     "output_type": "stream",
     "text": [
      "Epoch 1 \ttrain_loss: 0.676901\tval_loss: 1.3454\tval_accuracy: 65.89%\n",
      "Epoch 2 \ttrain_loss: 0.159109\tval_loss: 0.9316\tval_accuracy: 77.91%\n",
      "Epoch 3 \ttrain_loss: 0.086737\tval_loss: 0.7842\tval_accuracy: 82.17%\n",
      "Epoch 4 \ttrain_loss: 0.061437\tval_loss: 1.0626\tval_accuracy: 79.12%\n",
      "Epoch 5 \ttrain_loss: 0.085903\tval_loss: 0.8125\tval_accuracy: 82.20%\n",
      "Epoch 6 \ttrain_loss: 0.059304\tval_loss: 0.7283\tval_accuracy: 84.42%\n",
      "Epoch 7 \ttrain_loss: 0.027283\tval_loss: 0.6223\tval_accuracy: 86.30%\n",
      "Epoch 8 \ttrain_loss: 0.024661\tval_loss: 0.9561\tval_accuracy: 80.98%\n",
      "Epoch 9 \ttrain_loss: 0.074207\tval_loss: 0.6304\tval_accuracy: 86.38%\n",
      "Epoch 10 \ttrain_loss: 0.022352\tval_loss: 0.7869\tval_accuracy: 85.43%\n",
      "Epoch 11 \ttrain_loss: 0.037583\tval_loss: 0.5864\tval_accuracy: 87.42%\n",
      "Epoch 12 \ttrain_loss: 0.014358\tval_loss: 0.7250\tval_accuracy: 87.78%\n",
      "Epoch 13 \ttrain_loss: 0.015592\tval_loss: 0.7599\tval_accuracy: 85.56%\n",
      "Epoch 14 \ttrain_loss: 0.019920\tval_loss: 0.8906\tval_accuracy: 85.27%\n",
      "Epoch 15 \ttrain_loss: 0.041864\tval_loss: 0.8679\tval_accuracy: 84.96%\n",
      "Epoch 16 \ttrain_loss: 0.020931\tval_loss: 0.7139\tval_accuracy: 87.26%\n",
      "Epoch 17 \ttrain_loss: 0.027163\tval_loss: 0.7694\tval_accuracy: 86.23%\n",
      "Epoch 18 \ttrain_loss: 0.008585\tval_loss: 0.8052\tval_accuracy: 86.20%\n",
      "Epoch 19 \ttrain_loss: 0.006030\tval_loss: 0.6470\tval_accuracy: 89.79%\n",
      "Epoch 20 \ttrain_loss: 0.025213\tval_loss: 0.8396\tval_accuracy: 85.94%\n",
      "Epoch 21 \ttrain_loss: 0.012161\tval_loss: 0.4899\tval_accuracy: 90.78%\n",
      "Epoch 22 \ttrain_loss: 0.011645\tval_loss: 0.7287\tval_accuracy: 85.61%\n",
      "Epoch 23 \ttrain_loss: 0.021164\tval_loss: 0.8877\tval_accuracy: 84.03%\n",
      "Epoch 24 \ttrain_loss: 0.022102\tval_loss: 0.7148\tval_accuracy: 86.15%\n",
      "Epoch 25 \ttrain_loss: 0.004523\tval_loss: 0.6206\tval_accuracy: 89.07%\n",
      "Epoch 26 \ttrain_loss: 0.003262\tval_loss: 0.7676\tval_accuracy: 86.15%\n",
      "\n",
      "Early stopping. Val loss did not improve for 5 consecutive epochs\n"
     ]
    }
   ],
   "source": [
    "# Training parameters\n",
    "resnet_variant = None  # Default\n",
    "epochs = 50\n",
    "criterion = nn.CrossEntropyLoss()\n",
    "lr = 0.001\n",
    "\n",
    "model = resnet18(variant=resnet_variant, num_classes=num_classes)\n",
    "\n",
    "trainer = Trainer(model, train_loader, val_loader, criterion, lr)\n",
    "trainer.run(epochs)\n",
    "\n",
    "results[\"config_2\"] = {\n",
    "    \"description\": \"Default ResNet\",\n",
    "    \"train_loss\": trainer.train_loss,\n",
    "    \"test_loss\": trainer.test_loss,\n",
    "    \"test_accuracy\": trainer.test_accuracy\n",
    "}"
   ]
  },
  {
   "cell_type": "markdown",
   "metadata": {},
   "source": [
    "<a id=\"config-3\" />\n",
    "\n",
    "## Model: ResNet-18 (Variant C)"
   ]
  },
  {
   "cell_type": "code",
   "execution_count": 6,
   "metadata": {},
   "outputs": [
    {
     "name": "stdout",
     "output_type": "stream",
     "text": [
      "Epoch 1 \ttrain_loss: 0.632779\tval_loss: 0.8807\tval_accuracy: 77.26%\n",
      "Epoch 2 \ttrain_loss: 0.085213\tval_loss: 0.7935\tval_accuracy: 79.25%\n",
      "Epoch 3 \ttrain_loss: 0.056613\tval_loss: 0.4586\tval_accuracy: 89.72%\n",
      "Epoch 4 \ttrain_loss: 0.024932\tval_loss: 0.5980\tval_accuracy: 88.32%\n",
      "Epoch 5 \ttrain_loss: 0.042811\tval_loss: 0.4356\tval_accuracy: 91.01%\n",
      "Epoch 6 \ttrain_loss: 0.034207\tval_loss: 0.6138\tval_accuracy: 87.42%\n",
      "Epoch 7 \ttrain_loss: 0.015185\tval_loss: 0.4187\tval_accuracy: 91.73%\n",
      "Epoch 8 \ttrain_loss: 0.017719\tval_loss: 0.5004\tval_accuracy: 89.30%\n",
      "Epoch 9 \ttrain_loss: 0.028652\tval_loss: 0.4471\tval_accuracy: 89.10%\n",
      "Epoch 10 \ttrain_loss: 0.016498\tval_loss: 0.3699\tval_accuracy: 91.86%\n",
      "Epoch 11 \ttrain_loss: 0.011051\tval_loss: 0.6527\tval_accuracy: 89.17%\n",
      "Epoch 12 \ttrain_loss: 0.012692\tval_loss: 0.4357\tval_accuracy: 90.93%\n",
      "Epoch 13 \ttrain_loss: 0.011708\tval_loss: 0.3967\tval_accuracy: 92.40%\n",
      "Epoch 14 \ttrain_loss: 0.029861\tval_loss: 0.3897\tval_accuracy: 91.71%\n",
      "Epoch 15 \ttrain_loss: 0.019174\tval_loss: 0.3857\tval_accuracy: 91.99%\n",
      "Epoch 16 \ttrain_loss: 0.003135\tval_loss: 0.3777\tval_accuracy: 92.76%\n",
      "Epoch 17 \ttrain_loss: 0.000652\tval_loss: 0.3240\tval_accuracy: 93.00%\n",
      "Epoch 18 \ttrain_loss: 0.028053\tval_loss: 0.3435\tval_accuracy: 92.53%\n",
      "Epoch 19 \ttrain_loss: 0.009233\tval_loss: 0.4838\tval_accuracy: 91.34%\n",
      "Epoch 20 \ttrain_loss: 0.005929\tval_loss: 0.4287\tval_accuracy: 91.40%\n",
      "Epoch 21 \ttrain_loss: 0.003925\tval_loss: 0.4686\tval_accuracy: 91.73%\n",
      "Epoch 22 \ttrain_loss: 0.029147\tval_loss: 0.4374\tval_accuracy: 91.42%\n",
      "Epoch 23 \ttrain_loss: 0.016944\tval_loss: 0.3306\tval_accuracy: 92.30%\n",
      "Epoch 24 \ttrain_loss: 0.014620\tval_loss: 0.3831\tval_accuracy: 93.23%\n",
      "Epoch 25 \ttrain_loss: 0.008200\tval_loss: 0.3298\tval_accuracy: 93.44%\n",
      "\n",
      "Early stopping. Val loss did not improve for 5 consecutive epochs\n"
     ]
    }
   ],
   "source": [
    "# Training parameters\n",
    "resnet_variant = \"C\"\n",
    "epochs = 50\n",
    "criterion = nn.CrossEntropyLoss()\n",
    "lr = 0.001\n",
    "\n",
    "model = resnet18(variant=resnet_variant, num_classes=num_classes)\n",
    "\n",
    "trainer = Trainer(model, train_loader, val_loader, criterion, lr)\n",
    "trainer.run(epochs)\n",
    "\n",
    "results[\"config_3\"] = {\n",
    "    \"description\": \"ResNet-C\",\n",
    "    \"train_loss\": trainer.train_loss,\n",
    "    \"test_loss\": trainer.test_loss,\n",
    "    \"test_accuracy\": trainer.test_accuracy\n",
    "}"
   ]
  },
  {
   "cell_type": "markdown",
   "metadata": {},
   "source": [
    "<a id=\"config-4\" />\n",
    "\n",
    "## Model: ResNet-18 (Variant D)"
   ]
  },
  {
   "cell_type": "code",
   "execution_count": 7,
   "metadata": {},
   "outputs": [
    {
     "name": "stdout",
     "output_type": "stream",
     "text": [
      "Epoch 1 \ttrain_loss: 0.707616\tval_loss: 0.6147\tval_accuracy: 83.00%\n",
      "Epoch 2 \ttrain_loss: 0.069794\tval_loss: 0.6265\tval_accuracy: 84.19%\n",
      "Epoch 3 \ttrain_loss: 0.057486\tval_loss: 0.4783\tval_accuracy: 88.45%\n",
      "Epoch 4 \ttrain_loss: 0.033010\tval_loss: 0.3416\tval_accuracy: 90.98%\n",
      "Epoch 5 \ttrain_loss: 0.017468\tval_loss: 0.2842\tval_accuracy: 92.07%\n",
      "Epoch 6 \ttrain_loss: 0.024117\tval_loss: 0.5813\tval_accuracy: 86.51%\n",
      "Epoch 7 \ttrain_loss: 0.043403\tval_loss: 0.3853\tval_accuracy: 91.37%\n",
      "Epoch 8 \ttrain_loss: 0.029231\tval_loss: 0.4512\tval_accuracy: 89.35%\n",
      "Epoch 9 \ttrain_loss: 0.010300\tval_loss: 0.2860\tval_accuracy: 93.82%\n",
      "Epoch 10 \ttrain_loss: 0.025510\tval_loss: 0.3721\tval_accuracy: 90.41%\n",
      "Epoch 11 \ttrain_loss: 0.006692\tval_loss: 0.3311\tval_accuracy: 93.02%\n",
      "Epoch 12 \ttrain_loss: 0.008176\tval_loss: 0.3968\tval_accuracy: 91.34%\n",
      "Epoch 13 \ttrain_loss: 0.022560\tval_loss: 0.3935\tval_accuracy: 91.99%\n",
      "Epoch 14 \ttrain_loss: 0.007611\tval_loss: 0.3456\tval_accuracy: 92.22%\n",
      "Epoch 15 \ttrain_loss: 0.011935\tval_loss: 0.4209\tval_accuracy: 90.36%\n",
      "Epoch 16 \ttrain_loss: 0.012007\tval_loss: 0.4167\tval_accuracy: 92.30%\n",
      "Epoch 17 \ttrain_loss: 0.017079\tval_loss: 0.3273\tval_accuracy: 93.00%\n",
      "Epoch 18 \ttrain_loss: 0.001019\tval_loss: 0.3509\tval_accuracy: 93.39%\n",
      "Epoch 19 \ttrain_loss: 0.005074\tval_loss: 0.4526\tval_accuracy: 91.73%\n",
      "Epoch 20 \ttrain_loss: 0.026278\tval_loss: 0.2281\tval_accuracy: 94.39%\n",
      "Epoch 21 \ttrain_loss: 0.005906\tval_loss: 0.4048\tval_accuracy: 91.21%\n",
      "Epoch 22 \ttrain_loss: 0.015796\tval_loss: 0.3614\tval_accuracy: 92.27%\n",
      "Epoch 23 \ttrain_loss: 0.009017\tval_loss: 0.2602\tval_accuracy: 93.59%\n",
      "Epoch 24 \ttrain_loss: 0.001664\tval_loss: 0.3244\tval_accuracy: 93.20%\n",
      "Epoch 25 \ttrain_loss: 0.005628\tval_loss: 0.2813\tval_accuracy: 93.57%\n",
      "\n",
      "Early stopping. Val loss did not improve for 5 consecutive epochs\n"
     ]
    }
   ],
   "source": [
    "# Training parameters\n",
    "resnet_variant = \"D\"\n",
    "epochs = 50\n",
    "criterion = nn.CrossEntropyLoss()\n",
    "lr = 0.001\n",
    "\n",
    "model = resnet18(variant=resnet_variant, num_classes=num_classes)\n",
    "\n",
    "trainer = Trainer(model, train_loader, val_loader, criterion, lr)\n",
    "trainer.run(epochs)\n",
    "\n",
    "results[\"config_4\"] = {\n",
    "    \"description\": \"ResNet-D\",\n",
    "    \"train_loss\": trainer.train_loss,\n",
    "    \"test_loss\": trainer.test_loss,\n",
    "    \"test_accuracy\": trainer.test_accuracy\n",
    "}"
   ]
  },
  {
   "cell_type": "markdown",
   "metadata": {},
   "source": [
    "<a id=\"config-5\" />\n",
    "\n",
    "## Model: ResNet-18 (Variant C with Pre-activation)"
   ]
  },
  {
   "cell_type": "code",
   "execution_count": 8,
   "metadata": {},
   "outputs": [
    {
     "name": "stdout",
     "output_type": "stream",
     "text": [
      "Epoch 1 \ttrain_loss: 0.789000\tval_loss: 1.0367\tval_accuracy: 70.90%\n",
      "Epoch 2 \ttrain_loss: 0.102170\tval_loss: 0.7419\tval_accuracy: 81.73%\n",
      "Epoch 3 \ttrain_loss: 0.045242\tval_loss: 0.6189\tval_accuracy: 83.10%\n",
      "Epoch 4 \ttrain_loss: 0.045705\tval_loss: 0.5621\tval_accuracy: 85.79%\n",
      "Epoch 5 \ttrain_loss: 0.035563\tval_loss: 0.4853\tval_accuracy: 87.75%\n",
      "Epoch 6 \ttrain_loss: 0.017457\tval_loss: 0.4835\tval_accuracy: 88.73%\n",
      "Epoch 7 \ttrain_loss: 0.025087\tval_loss: 0.4710\tval_accuracy: 89.02%\n",
      "Epoch 8 \ttrain_loss: 0.020680\tval_loss: 0.5064\tval_accuracy: 90.16%\n",
      "Epoch 9 \ttrain_loss: 0.020263\tval_loss: 0.5041\tval_accuracy: 89.17%\n",
      "Epoch 10 \ttrain_loss: 0.013219\tval_loss: 0.7237\tval_accuracy: 85.25%\n",
      "Epoch 11 \ttrain_loss: 0.015571\tval_loss: 0.6644\tval_accuracy: 84.94%\n",
      "Epoch 12 \ttrain_loss: 0.023233\tval_loss: 0.4167\tval_accuracy: 91.01%\n",
      "Epoch 13 \ttrain_loss: 0.004745\tval_loss: 0.4101\tval_accuracy: 91.65%\n",
      "Epoch 14 \ttrain_loss: 0.014175\tval_loss: 0.3949\tval_accuracy: 90.34%\n",
      "Epoch 15 \ttrain_loss: 0.012330\tval_loss: 0.5278\tval_accuracy: 87.86%\n",
      "Epoch 16 \ttrain_loss: 0.016908\tval_loss: 0.3332\tval_accuracy: 92.45%\n",
      "Epoch 17 \ttrain_loss: 0.012475\tval_loss: 0.4095\tval_accuracy: 90.54%\n",
      "Epoch 18 \ttrain_loss: 0.015872\tval_loss: 0.4765\tval_accuracy: 90.80%\n",
      "Epoch 19 \ttrain_loss: 0.013174\tval_loss: 0.4289\tval_accuracy: 90.98%\n",
      "Epoch 20 \ttrain_loss: 0.016785\tval_loss: 0.3857\tval_accuracy: 91.58%\n",
      "Epoch 21 \ttrain_loss: 0.002713\tval_loss: 0.3712\tval_accuracy: 92.64%\n",
      "Epoch 22 \ttrain_loss: 0.002036\tval_loss: 0.5360\tval_accuracy: 90.52%\n",
      "Epoch 23 \ttrain_loss: 0.013603\tval_loss: 0.3541\tval_accuracy: 91.71%\n",
      "Epoch 24 \ttrain_loss: 0.004782\tval_loss: 0.3221\tval_accuracy: 93.18%\n",
      "Epoch 25 \ttrain_loss: 0.014188\tval_loss: 0.5229\tval_accuracy: 90.41%\n",
      "Epoch 26 \ttrain_loss: 0.007637\tval_loss: 0.3165\tval_accuracy: 92.97%\n",
      "Epoch 27 \ttrain_loss: 0.009753\tval_loss: 0.3789\tval_accuracy: 92.79%\n",
      "Epoch 28 \ttrain_loss: 0.004043\tval_loss: 0.4576\tval_accuracy: 92.76%\n",
      "Epoch 29 \ttrain_loss: 0.011616\tval_loss: 0.3908\tval_accuracy: 92.79%\n",
      "Epoch 30 \ttrain_loss: 0.002322\tval_loss: 0.3253\tval_accuracy: 92.71%\n",
      "Epoch 31 \ttrain_loss: 0.014203\tval_loss: 0.2963\tval_accuracy: 93.82%\n",
      "Epoch 32 \ttrain_loss: 0.007182\tval_loss: 0.3974\tval_accuracy: 93.33%\n",
      "Epoch 33 \ttrain_loss: 0.003541\tval_loss: 0.3354\tval_accuracy: 93.51%\n",
      "Epoch 34 \ttrain_loss: 0.001752\tval_loss: 0.3923\tval_accuracy: 93.95%\n",
      "Epoch 35 \ttrain_loss: 0.002443\tval_loss: 0.5147\tval_accuracy: 92.17%\n",
      "Epoch 36 \ttrain_loss: 0.010653\tval_loss: 0.4244\tval_accuracy: 91.60%\n",
      "\n",
      "Early stopping. Val loss did not improve for 5 consecutive epochs\n"
     ]
    }
   ],
   "source": [
    "# Training parameters\n",
    "resnet_variant = \"PA\"\n",
    "epochs = 50\n",
    "criterion = nn.CrossEntropyLoss()\n",
    "lr = 0.001\n",
    "\n",
    "model = resnet18(variant=resnet_variant, num_classes=num_classes)\n",
    "\n",
    "trainer = Trainer(model, train_loader, val_loader, criterion, lr)\n",
    "trainer.run(epochs)\n",
    "\n",
    "results[\"config_5\"] = {\n",
    "    \"description\": \"Pre-activation ResNet-C\",\n",
    "    \"train_loss\": trainer.train_loss,\n",
    "    \"test_loss\": trainer.test_loss,\n",
    "    \"test_accuracy\": trainer.test_accuracy\n",
    "}"
   ]
  },
  {
   "cell_type": "markdown",
   "metadata": {},
   "source": [
    "<a id=\"config-6\" />\n",
    "\n",
    "## Model: ResNet-50 (Variant C)"
   ]
  },
  {
   "cell_type": "code",
   "execution_count": 9,
   "metadata": {},
   "outputs": [
    {
     "name": "stdout",
     "output_type": "stream",
     "text": [
      "Epoch 1 \ttrain_loss: 1.794865\tval_loss: 2.8826\tval_accuracy: 33.28%\n",
      "Epoch 2 \ttrain_loss: 0.339485\tval_loss: 1.4417\tval_accuracy: 64.63%\n",
      "Epoch 3 \ttrain_loss: 0.112093\tval_loss: 1.3446\tval_accuracy: 70.57%\n",
      "Epoch 4 \ttrain_loss: 0.078326\tval_loss: 1.2400\tval_accuracy: 74.06%\n",
      "Epoch 5 \ttrain_loss: 0.066396\tval_loss: 1.1811\tval_accuracy: 76.38%\n",
      "Epoch 6 \ttrain_loss: 0.056080\tval_loss: 1.0764\tval_accuracy: 77.83%\n",
      "Epoch 7 \ttrain_loss: 0.043100\tval_loss: 0.9902\tval_accuracy: 78.71%\n",
      "Epoch 8 \ttrain_loss: 0.017561\tval_loss: 0.8202\tval_accuracy: 84.13%\n",
      "Epoch 9 \ttrain_loss: 0.036913\tval_loss: 0.6999\tval_accuracy: 83.93%\n",
      "Epoch 10 \ttrain_loss: 0.036301\tval_loss: 0.8063\tval_accuracy: 82.61%\n",
      "Epoch 11 \ttrain_loss: 0.037554\tval_loss: 0.8504\tval_accuracy: 82.66%\n",
      "Epoch 12 \ttrain_loss: 0.053934\tval_loss: 0.6966\tval_accuracy: 84.88%\n",
      "Epoch 13 \ttrain_loss: 0.025245\tval_loss: 0.4883\tval_accuracy: 88.40%\n",
      "Epoch 14 \ttrain_loss: 0.052310\tval_loss: 0.6950\tval_accuracy: 86.56%\n",
      "Epoch 15 \ttrain_loss: 0.017810\tval_loss: 0.5039\tval_accuracy: 89.38%\n",
      "Epoch 16 \ttrain_loss: 0.150950\tval_loss: 0.5771\tval_accuracy: 87.08%\n",
      "Epoch 17 \ttrain_loss: 0.126662\tval_loss: 0.6817\tval_accuracy: 81.83%\n",
      "Epoch 18 \ttrain_loss: 0.048800\tval_loss: 0.4884\tval_accuracy: 88.68%\n",
      "Epoch 19 \ttrain_loss: 0.061446\tval_loss: 0.4087\tval_accuracy: 91.19%\n",
      "Epoch 20 \ttrain_loss: 0.010005\tval_loss: 0.7434\tval_accuracy: 83.75%\n",
      "Epoch 21 \ttrain_loss: 0.389066\tval_loss: 1.0179\tval_accuracy: 77.18%\n",
      "Epoch 22 \ttrain_loss: 0.158912\tval_loss: 0.8756\tval_accuracy: 82.07%\n",
      "Epoch 23 \ttrain_loss: 0.026552\tval_loss: 0.9717\tval_accuracy: 81.03%\n",
      "Epoch 24 \ttrain_loss: 0.039875\tval_loss: 0.7059\tval_accuracy: 86.28%\n",
      "Epoch 25 \ttrain_loss: 0.013017\tval_loss: 0.9255\tval_accuracy: 84.47%\n",
      "\n",
      "Early stopping. Val loss did not improve for 5 consecutive epochs\n"
     ]
    }
   ],
   "source": [
    "# Training parameters\n",
    "resnet_variant = \"C\"\n",
    "epochs = 50\n",
    "criterion = nn.CrossEntropyLoss()\n",
    "lr = 0.001\n",
    "\n",
    "model = resnet50(variant=resnet_variant, num_classes=num_classes)\n",
    "\n",
    "trainer = Trainer(model, train_loader, val_loader, criterion, lr)\n",
    "trainer.run(epochs)\n",
    "\n",
    "results[\"config_6\"] = {\n",
    "    \"description\": \"ResNet-C 50 layers\",\n",
    "    \"train_loss\": trainer.train_loss,\n",
    "    \"test_loss\": trainer.test_loss,\n",
    "    \"test_accuracy\": trainer.test_accuracy\n",
    "}"
   ]
  },
  {
   "cell_type": "markdown",
   "metadata": {},
   "source": [
    "<a id=\"config-7\" />\n",
    "\n",
    "## Model: ResNet-18 (Variant D) with Label Smoothing"
   ]
  },
  {
   "cell_type": "code",
   "execution_count": 13,
   "metadata": {},
   "outputs": [
    {
     "name": "stdout",
     "output_type": "stream",
     "text": [
      "Epoch 1 \ttrain_loss: 1.323418\tval_loss: 1.1983\tval_accuracy: 84.19%\n",
      "Epoch 2 \ttrain_loss: 0.747717\tval_loss: 1.0580\tval_accuracy: 87.98%\n",
      "Epoch 3 \ttrain_loss: 0.719342\tval_loss: 0.9865\tval_accuracy: 90.36%\n",
      "Epoch 4 \ttrain_loss: 0.704782\tval_loss: 1.0801\tval_accuracy: 87.55%\n",
      "Epoch 5 \ttrain_loss: 0.725544\tval_loss: 0.9034\tval_accuracy: 93.28%\n",
      "Epoch 6 \ttrain_loss: 0.694169\tval_loss: 0.9425\tval_accuracy: 91.83%\n",
      "Epoch 7 \ttrain_loss: 0.702366\tval_loss: 0.9604\tval_accuracy: 91.58%\n",
      "Epoch 8 \ttrain_loss: 0.705989\tval_loss: 0.9709\tval_accuracy: 91.03%\n",
      "Epoch 9 \ttrain_loss: 0.704480\tval_loss: 0.9376\tval_accuracy: 92.45%\n",
      "Epoch 10 \ttrain_loss: 0.692320\tval_loss: 0.8912\tval_accuracy: 93.80%\n",
      "Epoch 11 \ttrain_loss: 0.691239\tval_loss: 0.9394\tval_accuracy: 92.69%\n",
      "Epoch 12 \ttrain_loss: 0.709535\tval_loss: 0.9480\tval_accuracy: 92.20%\n",
      "Epoch 13 \ttrain_loss: 0.696563\tval_loss: 0.8808\tval_accuracy: 94.32%\n",
      "Epoch 14 \ttrain_loss: 0.698514\tval_loss: 0.9074\tval_accuracy: 92.84%\n",
      "Epoch 15 \ttrain_loss: 0.692594\tval_loss: 0.9247\tval_accuracy: 92.71%\n",
      "Epoch 16 \ttrain_loss: 0.695420\tval_loss: 0.8696\tval_accuracy: 94.32%\n",
      "Epoch 17 \ttrain_loss: 0.700313\tval_loss: 0.9019\tval_accuracy: 93.70%\n",
      "Epoch 18 \ttrain_loss: 0.687128\tval_loss: 0.8304\tval_accuracy: 95.58%\n",
      "Epoch 19 \ttrain_loss: 0.686815\tval_loss: 0.8330\tval_accuracy: 95.17%\n",
      "Epoch 20 \ttrain_loss: 0.710018\tval_loss: 0.9637\tval_accuracy: 92.25%\n",
      "Epoch 21 \ttrain_loss: 0.704871\tval_loss: 0.9274\tval_accuracy: 92.27%\n",
      "Epoch 22 \ttrain_loss: 0.693175\tval_loss: 0.9090\tval_accuracy: 93.31%\n",
      "Epoch 23 \ttrain_loss: 0.692494\tval_loss: 0.8325\tval_accuracy: 95.84%\n",
      "Epoch 24 \ttrain_loss: 0.687744\tval_loss: 0.8310\tval_accuracy: 96.02%\n",
      "Epoch 25 \ttrain_loss: 0.689362\tval_loss: 0.8641\tval_accuracy: 94.52%\n",
      "\n",
      "Early stopping. Val loss did not improve for 5 consecutive epochs\n"
     ]
    }
   ],
   "source": [
    "# Training parameters\n",
    "resnet_variant = \"D\"\n",
    "epochs = 50\n",
    "criterion = LabelSmoothingCrossEntropy()\n",
    "lr = 0.001\n",
    "\n",
    "model = resnet18(variant=resnet_variant, num_classes=num_classes)\n",
    "\n",
    "trainer = Trainer(model, train_loader, val_loader, criterion, lr)\n",
    "trainer.run(epochs)\n",
    "\n",
    "results[\"config_7\"] = {\n",
    "    \"description\": \"ResNet-D, label smoothing\",\n",
    "    \"train_loss\": trainer.train_loss,\n",
    "    \"test_loss\": trainer.test_loss,\n",
    "    \"test_accuracy\": trainer.test_accuracy\n",
    "}"
   ]
  },
  {
   "cell_type": "markdown",
   "metadata": {},
   "source": [
    "<a id=\"config-8\" />\n",
    "\n",
    "## Model: ResNet-18 (Variant D) with Mixup training"
   ]
  },
  {
   "cell_type": "code",
   "execution_count": 14,
   "metadata": {},
   "outputs": [
    {
     "name": "stdout",
     "output_type": "stream",
     "text": [
      "Epoch 1 \ttrain_loss: 1.346179\tval_loss: 0.8396\tval_accuracy: 77.05%\n",
      "Epoch 2 \ttrain_loss: 0.682873\tval_loss: 0.6047\tval_accuracy: 86.87%\n",
      "Epoch 3 \ttrain_loss: 0.643334\tval_loss: 0.5352\tval_accuracy: 87.70%\n",
      "Epoch 4 \ttrain_loss: 0.562221\tval_loss: 0.6161\tval_accuracy: 85.14%\n",
      "Epoch 5 \ttrain_loss: 0.631765\tval_loss: 0.4241\tval_accuracy: 91.19%\n",
      "Epoch 6 \ttrain_loss: 0.559276\tval_loss: 0.3538\tval_accuracy: 91.29%\n",
      "Epoch 7 \ttrain_loss: 0.519888\tval_loss: 0.2838\tval_accuracy: 93.18%\n",
      "Epoch 8 \ttrain_loss: 0.537027\tval_loss: 0.3033\tval_accuracy: 92.09%\n",
      "Epoch 9 \ttrain_loss: 0.558925\tval_loss: 0.3466\tval_accuracy: 92.53%\n",
      "Epoch 10 \ttrain_loss: 0.462724\tval_loss: 0.3042\tval_accuracy: 92.40%\n",
      "Epoch 11 \ttrain_loss: 0.548178\tval_loss: 0.3319\tval_accuracy: 92.76%\n",
      "Epoch 12 \ttrain_loss: 0.432708\tval_loss: 0.2629\tval_accuracy: 94.06%\n",
      "Epoch 13 \ttrain_loss: 0.476969\tval_loss: 0.3156\tval_accuracy: 93.33%\n",
      "Epoch 14 \ttrain_loss: 0.466316\tval_loss: 0.2353\tval_accuracy: 94.81%\n",
      "Epoch 15 \ttrain_loss: 0.491364\tval_loss: 0.2829\tval_accuracy: 93.90%\n",
      "Epoch 16 \ttrain_loss: 0.447192\tval_loss: 0.2365\tval_accuracy: 94.39%\n",
      "Epoch 17 \ttrain_loss: 0.407862\tval_loss: 0.2074\tval_accuracy: 95.04%\n",
      "Epoch 18 \ttrain_loss: 0.512154\tval_loss: 0.2397\tval_accuracy: 95.09%\n",
      "Epoch 19 \ttrain_loss: 0.418212\tval_loss: 0.2257\tval_accuracy: 94.78%\n",
      "Epoch 20 \ttrain_loss: 0.350384\tval_loss: 0.2107\tval_accuracy: 95.81%\n",
      "Epoch 21 \ttrain_loss: 0.426154\tval_loss: 0.1843\tval_accuracy: 94.99%\n",
      "Epoch 22 \ttrain_loss: 0.432348\tval_loss: 0.2286\tval_accuracy: 94.39%\n",
      "Epoch 23 \ttrain_loss: 0.431152\tval_loss: 0.2419\tval_accuracy: 93.57%\n",
      "Epoch 24 \ttrain_loss: 0.396693\tval_loss: 0.2051\tval_accuracy: 95.12%\n",
      "Epoch 25 \ttrain_loss: 0.445901\tval_loss: 0.2067\tval_accuracy: 94.39%\n",
      "Epoch 26 \ttrain_loss: 0.423942\tval_loss: 0.2006\tval_accuracy: 95.19%\n",
      "\n",
      "Early stopping. Val loss did not improve for 5 consecutive epochs\n"
     ]
    }
   ],
   "source": [
    "# Training parameters\n",
    "resnet_variant = \"D\"\n",
    "epochs = 50\n",
    "criterion = nn.CrossEntropyLoss()\n",
    "lr = 0.001\n",
    "\n",
    "model = resnet18(variant=resnet_variant, num_classes=num_classes)\n",
    "\n",
    "trainer = Trainer(model, train_loader, val_loader, criterion, lr)\n",
    "trainer.run(epochs, mixup=True)\n",
    "\n",
    "results[\"config_8\"] = {\n",
    "    \"description\": \"ResNet-D, mixup training\",\n",
    "    \"train_loss\": trainer.train_loss,\n",
    "    \"test_loss\": trainer.test_loss,\n",
    "    \"test_accuracy\": trainer.test_accuracy\n",
    "}"
   ]
  },
  {
   "cell_type": "markdown",
   "metadata": {},
   "source": [
    "<a id=\"config-9\" />\n",
    "\n",
    "## Model: ResNet-18 (Variant D) with Mixup training and Label smoothing"
   ]
  },
  {
   "cell_type": "code",
   "execution_count": 15,
   "metadata": {},
   "outputs": [
    {
     "name": "stdout",
     "output_type": "stream",
     "text": [
      "Epoch 1 \ttrain_loss: 1.830268\tval_loss: 1.4087\tval_accuracy: 77.86%\n",
      "Epoch 2 \ttrain_loss: 1.226454\tval_loss: 1.3195\tval_accuracy: 83.90%\n",
      "Epoch 3 \ttrain_loss: 1.233289\tval_loss: 1.1242\tval_accuracy: 88.53%\n",
      "Epoch 4 \ttrain_loss: 1.164373\tval_loss: 1.0814\tval_accuracy: 91.86%\n",
      "Epoch 5 \ttrain_loss: 1.098145\tval_loss: 1.0487\tval_accuracy: 89.74%\n",
      "Epoch 6 \ttrain_loss: 1.129215\tval_loss: 1.0309\tval_accuracy: 89.22%\n",
      "Epoch 7 \ttrain_loss: 1.108693\tval_loss: 0.9815\tval_accuracy: 92.20%\n",
      "Epoch 8 \ttrain_loss: 1.102062\tval_loss: 0.9654\tval_accuracy: 91.50%\n",
      "Epoch 9 \ttrain_loss: 1.137419\tval_loss: 0.9417\tval_accuracy: 93.00%\n",
      "Epoch 10 \ttrain_loss: 1.132443\tval_loss: 0.9736\tval_accuracy: 91.73%\n",
      "Epoch 11 \ttrain_loss: 1.064913\tval_loss: 0.9605\tval_accuracy: 92.71%\n",
      "Epoch 12 \ttrain_loss: 1.078390\tval_loss: 0.9800\tval_accuracy: 91.34%\n",
      "Epoch 13 \ttrain_loss: 1.053110\tval_loss: 0.9289\tval_accuracy: 93.59%\n",
      "Epoch 14 \ttrain_loss: 1.086861\tval_loss: 0.9298\tval_accuracy: 92.97%\n",
      "Epoch 15 \ttrain_loss: 1.045390\tval_loss: 0.9304\tval_accuracy: 93.18%\n",
      "Epoch 16 \ttrain_loss: 1.040026\tval_loss: 0.9059\tval_accuracy: 94.52%\n",
      "Epoch 17 \ttrain_loss: 1.044104\tval_loss: 0.9286\tval_accuracy: 92.87%\n",
      "Epoch 18 \ttrain_loss: 1.040798\tval_loss: 0.9132\tval_accuracy: 93.80%\n",
      "Epoch 19 \ttrain_loss: 1.032721\tval_loss: 0.9151\tval_accuracy: 93.36%\n",
      "Epoch 20 \ttrain_loss: 1.058670\tval_loss: 0.9164\tval_accuracy: 92.79%\n",
      "Epoch 21 \ttrain_loss: 1.043322\tval_loss: 0.8754\tval_accuracy: 94.03%\n",
      "Epoch 22 \ttrain_loss: 1.049993\tval_loss: 0.9169\tval_accuracy: 93.62%\n",
      "Epoch 23 \ttrain_loss: 1.025483\tval_loss: 0.9333\tval_accuracy: 93.15%\n",
      "Epoch 24 \ttrain_loss: 1.000052\tval_loss: 0.9031\tval_accuracy: 93.70%\n",
      "Epoch 25 \ttrain_loss: 1.025208\tval_loss: 0.8897\tval_accuracy: 94.96%\n",
      "Epoch 26 \ttrain_loss: 1.021615\tval_loss: 0.9234\tval_accuracy: 93.46%\n",
      "\n",
      "Early stopping. Val loss did not improve for 5 consecutive epochs\n"
     ]
    }
   ],
   "source": [
    "# Training parameters\n",
    "resnet_variant = \"D\"\n",
    "epochs = 50\n",
    "criterion = LabelSmoothingCrossEntropy()\n",
    "lr = 0.001\n",
    "\n",
    "model = resnet18(variant=resnet_variant, num_classes=num_classes)\n",
    "\n",
    "trainer = Trainer(model, train_loader, val_loader, criterion, lr)\n",
    "trainer.run(epochs, mixup=True)\n",
    "\n",
    "results[\"config_9\"] = {\n",
    "    \"description\": \"ResNet-D, label smoothing and mixup training\",\n",
    "    \"train_loss\": trainer.train_loss,\n",
    "    \"test_loss\": trainer.test_loss,\n",
    "    \"test_accuracy\": trainer.test_accuracy\n",
    "}"
   ]
  },
  {
   "cell_type": "markdown",
   "metadata": {},
   "source": [
    "<a id=\"config-10\" />\n",
    "\n",
    "## Model: ResNet-18 (Variant D) with Mixup training\n",
    "## Optimizer: AdamW"
   ]
  },
  {
   "cell_type": "code",
   "execution_count": 17,
   "metadata": {},
   "outputs": [
    {
     "name": "stdout",
     "output_type": "stream",
     "text": [
      "Epoch 1 \ttrain_loss: 1.354389\tval_loss: 0.9104\tval_accuracy: 75.37%\n",
      "Epoch 2 \ttrain_loss: 0.806106\tval_loss: 0.6911\tval_accuracy: 83.39%\n",
      "Epoch 3 \ttrain_loss: 0.608038\tval_loss: 0.5826\tval_accuracy: 86.30%\n",
      "Epoch 4 \ttrain_loss: 0.620500\tval_loss: 0.6255\tval_accuracy: 86.49%\n",
      "Epoch 5 \ttrain_loss: 0.577318\tval_loss: 0.5223\tval_accuracy: 88.71%\n",
      "Epoch 6 \ttrain_loss: 0.599600\tval_loss: 0.3705\tval_accuracy: 92.56%\n",
      "Epoch 7 \ttrain_loss: 0.549787\tval_loss: 0.4151\tval_accuracy: 90.80%\n",
      "Epoch 8 \ttrain_loss: 0.540722\tval_loss: 0.4548\tval_accuracy: 89.59%\n",
      "Epoch 9 \ttrain_loss: 0.446334\tval_loss: 0.3429\tval_accuracy: 92.48%\n",
      "Epoch 10 \ttrain_loss: 0.467159\tval_loss: 0.4018\tval_accuracy: 90.03%\n",
      "Epoch 11 \ttrain_loss: 0.463873\tval_loss: 0.3845\tval_accuracy: 90.72%\n",
      "Epoch 12 \ttrain_loss: 0.450973\tval_loss: 0.3374\tval_accuracy: 91.09%\n",
      "Epoch 13 \ttrain_loss: 0.529003\tval_loss: 0.3662\tval_accuracy: 91.68%\n",
      "Epoch 14 \ttrain_loss: 0.522717\tval_loss: 0.3757\tval_accuracy: 93.20%\n",
      "Epoch 15 \ttrain_loss: 0.463445\tval_loss: 0.3851\tval_accuracy: 92.12%\n",
      "Epoch 16 \ttrain_loss: 0.442276\tval_loss: 0.2355\tval_accuracy: 94.19%\n",
      "Epoch 17 \ttrain_loss: 0.403466\tval_loss: 0.2545\tval_accuracy: 93.80%\n",
      "Epoch 18 \ttrain_loss: 0.480356\tval_loss: 0.3287\tval_accuracy: 93.23%\n",
      "Epoch 19 \ttrain_loss: 0.469914\tval_loss: 0.2819\tval_accuracy: 94.37%\n",
      "Epoch 20 \ttrain_loss: 0.524442\tval_loss: 0.3445\tval_accuracy: 92.76%\n",
      "Epoch 21 \ttrain_loss: 0.443543\tval_loss: 0.2456\tval_accuracy: 94.32%\n",
      "Epoch 22 \ttrain_loss: 0.432944\tval_loss: 0.2468\tval_accuracy: 94.34%\n",
      "Epoch 23 \ttrain_loss: 0.349534\tval_loss: 0.2544\tval_accuracy: 93.98%\n",
      "Epoch 24 \ttrain_loss: 0.458890\tval_loss: 0.2738\tval_accuracy: 94.32%\n",
      "Epoch 25 \ttrain_loss: 0.416769\tval_loss: 0.2294\tval_accuracy: 94.44%\n",
      "Epoch 26 \ttrain_loss: 0.446221\tval_loss: 0.2217\tval_accuracy: 95.30%\n",
      "Epoch 27 \ttrain_loss: 0.455709\tval_loss: 0.2138\tval_accuracy: 95.40%\n",
      "Epoch 28 \ttrain_loss: 0.431868\tval_loss: 0.2817\tval_accuracy: 93.57%\n",
      "Epoch 29 \ttrain_loss: 0.458339\tval_loss: 0.1830\tval_accuracy: 95.87%\n",
      "Epoch 30 \ttrain_loss: 0.337434\tval_loss: 0.2353\tval_accuracy: 94.86%\n",
      "Epoch 31 \ttrain_loss: 0.409279\tval_loss: 0.2351\tval_accuracy: 94.47%\n",
      "Epoch 32 \ttrain_loss: 0.427953\tval_loss: 0.2330\tval_accuracy: 94.96%\n",
      "Epoch 33 \ttrain_loss: 0.383916\tval_loss: 0.1964\tval_accuracy: 95.19%\n",
      "Epoch 34 \ttrain_loss: 0.449013\tval_loss: 0.2119\tval_accuracy: 95.27%\n",
      "\n",
      "Early stopping. Val loss did not improve for 5 consecutive epochs\n"
     ]
    }
   ],
   "source": [
    "# Training parameters\n",
    "resnet_variant = \"D\"\n",
    "epochs = 50\n",
    "criterion = nn.CrossEntropyLoss()\n",
    "lr = 0.001\n",
    "\n",
    "model = resnet18(variant=resnet_variant, num_classes=num_classes)\n",
    "\n",
    "trainer = Trainer(model, train_loader, val_loader, criterion, lr)\n",
    "trainer.optimizer = optim.AdamW(trainer.model.parameters(), lr)\n",
    "trainer.run(epochs, mixup=True)\n",
    "\n",
    "results[\"config_10\"] = {\n",
    "    \"description\": \"ResNet-D, mixup training, AdamW Optimizer\",\n",
    "    \"train_loss\": trainer.train_loss,\n",
    "    \"test_loss\": trainer.test_loss,\n",
    "    \"test_accuracy\": trainer.test_accuracy\n",
    "}"
   ]
  },
  {
   "cell_type": "code",
   "execution_count": 19,
   "metadata": {},
   "outputs": [
    {
     "name": "stdout",
     "output_type": "stream",
     "text": [
      "Epoch 1 \ttrain_loss: 1.390122\tval_loss: 1.0068\tval_accuracy: 73.93%\n",
      "Epoch 2 \ttrain_loss: 0.762345\tval_loss: 0.7200\tval_accuracy: 82.48%\n",
      "Epoch 3 \ttrain_loss: 0.571020\tval_loss: 0.6577\tval_accuracy: 82.48%\n",
      "Epoch 4 \ttrain_loss: 0.604530\tval_loss: 0.5627\tval_accuracy: 85.94%\n",
      "Epoch 5 \ttrain_loss: 0.650993\tval_loss: 0.5324\tval_accuracy: 87.55%\n",
      "Epoch 6 \ttrain_loss: 0.578575\tval_loss: 0.6015\tval_accuracy: 85.45%\n",
      "Epoch 7 \ttrain_loss: 0.542949\tval_loss: 0.4822\tval_accuracy: 89.92%\n",
      "Epoch 8 \ttrain_loss: 0.558962\tval_loss: 0.4348\tval_accuracy: 90.10%\n",
      "Epoch 9 \ttrain_loss: 0.493755\tval_loss: 0.3574\tval_accuracy: 91.81%\n",
      "Epoch 10 \ttrain_loss: 0.459422\tval_loss: 0.3368\tval_accuracy: 91.78%\n",
      "Epoch 11 \ttrain_loss: 0.557168\tval_loss: 0.4286\tval_accuracy: 88.66%\n",
      "Epoch 12 \ttrain_loss: 0.479057\tval_loss: 0.3136\tval_accuracy: 92.79%\n",
      "Epoch 13 \ttrain_loss: 0.508749\tval_loss: 0.3441\tval_accuracy: 91.16%\n",
      "Epoch 14 \ttrain_loss: 0.494875\tval_loss: 0.2833\tval_accuracy: 93.28%\n",
      "Epoch 15 \ttrain_loss: 0.489658\tval_loss: 0.2702\tval_accuracy: 93.98%\n",
      "Epoch 16 \ttrain_loss: 0.494765\tval_loss: 0.2739\tval_accuracy: 93.05%\n",
      "Epoch 17 \ttrain_loss: 0.444810\tval_loss: 0.3108\tval_accuracy: 93.33%\n",
      "Epoch 18 \ttrain_loss: 0.456864\tval_loss: 0.2548\tval_accuracy: 94.34%\n",
      "Epoch 19 \ttrain_loss: 0.425585\tval_loss: 0.2661\tval_accuracy: 94.91%\n",
      "Epoch 20 \ttrain_loss: 0.431799\tval_loss: 0.2356\tval_accuracy: 94.42%\n",
      "Epoch 21 \ttrain_loss: 0.412036\tval_loss: 0.2421\tval_accuracy: 93.95%\n",
      "Epoch 22 \ttrain_loss: 0.464058\tval_loss: 0.2802\tval_accuracy: 93.93%\n",
      "Epoch 23 \ttrain_loss: 0.458791\tval_loss: 0.2993\tval_accuracy: 92.82%\n",
      "Epoch 24 \ttrain_loss: 0.399325\tval_loss: 0.2952\tval_accuracy: 93.49%\n",
      "Epoch 25 \ttrain_loss: 0.399240\tval_loss: 0.2609\tval_accuracy: 94.65%\n",
      "Epoch 26 \ttrain_loss: 0.452078\tval_loss: 0.2189\tval_accuracy: 95.09%\n",
      "Epoch 27 \ttrain_loss: 0.384247\tval_loss: 0.3005\tval_accuracy: 93.64%\n",
      "Epoch 28 \ttrain_loss: 0.398555\tval_loss: 0.2395\tval_accuracy: 95.40%\n",
      "Epoch 29 \ttrain_loss: 0.381386\tval_loss: 0.2394\tval_accuracy: 94.70%\n",
      "Epoch 30 \ttrain_loss: 0.453726\tval_loss: 0.2072\tval_accuracy: 95.14%\n",
      "Epoch 31 \ttrain_loss: 0.399151\tval_loss: 0.2955\tval_accuracy: 93.95%\n",
      "Epoch 32 \ttrain_loss: 0.416032\tval_loss: 0.2049\tval_accuracy: 94.88%\n",
      "Epoch 33 \ttrain_loss: 0.411461\tval_loss: 0.2076\tval_accuracy: 94.78%\n",
      "Epoch 34 \ttrain_loss: 0.384873\tval_loss: 0.2436\tval_accuracy: 94.08%\n",
      "Epoch 35 \ttrain_loss: 0.362080\tval_loss: 0.1933\tval_accuracy: 96.07%\n",
      "Epoch 36 \ttrain_loss: 0.443890\tval_loss: 0.2317\tval_accuracy: 95.19%\n",
      "Epoch 37 \ttrain_loss: 0.374544\tval_loss: 0.1514\tval_accuracy: 96.05%\n",
      "Epoch 38 \ttrain_loss: 0.426283\tval_loss: 0.2239\tval_accuracy: 95.58%\n",
      "Epoch 39 \ttrain_loss: 0.411117\tval_loss: 0.2214\tval_accuracy: 94.08%\n",
      "Epoch 40 \ttrain_loss: 0.373185\tval_loss: 0.1860\tval_accuracy: 95.04%\n",
      "Epoch 41 \ttrain_loss: 0.380433\tval_loss: 0.1684\tval_accuracy: 95.48%\n",
      "Epoch 42 \ttrain_loss: 0.415185\tval_loss: 0.2458\tval_accuracy: 93.95%\n",
      "Epoch 43 \ttrain_loss: 0.389951\tval_loss: 0.2082\tval_accuracy: 95.09%\n",
      "Epoch 44 \ttrain_loss: 0.359095\tval_loss: 0.1703\tval_accuracy: 95.63%\n",
      "Epoch 45 \ttrain_loss: 0.383055\tval_loss: 0.2231\tval_accuracy: 95.09%\n",
      "Epoch 46 \ttrain_loss: 0.413770\tval_loss: 0.2193\tval_accuracy: 95.84%\n",
      "Epoch 47 \ttrain_loss: 0.356081\tval_loss: 0.1700\tval_accuracy: 96.59%\n",
      "\n",
      "Early stopping. Val loss did not improve for 10 consecutive epochs\n"
     ]
    }
   ],
   "source": [
    "# Training parameters\n",
    "resnet_variant = \"D\"\n",
    "epochs = 50\n",
    "criterion = nn.CrossEntropyLoss()\n",
    "lr = 0.00075\n",
    "\n",
    "model = resnet18(variant=resnet_variant, num_classes=num_classes)\n",
    "\n",
    "trainer = Trainer(model, train_loader, val_loader, criterion, lr, early_stopping_tolerance=10)\n",
    "trainer.optimizer = optim.AdamW(trainer.model.parameters(), lr)\n",
    "trainer.run(epochs, mixup=True)\n",
    "\n",
    "results[\"config_11\"] = {\n",
    "    \"description\": \"ResNet-D, mixup training, AdamW Optimizer with slower LR\",\n",
    "    \"train_loss\": trainer.train_loss,\n",
    "    \"test_loss\": trainer.test_loss,\n",
    "    \"test_accuracy\": trainer.test_accuracy\n",
    "}"
   ]
  },
  {
   "cell_type": "code",
   "execution_count": 20,
   "metadata": {},
   "outputs": [
    {
     "name": "stderr",
     "output_type": "stream",
     "text": [
      "100%|██████████| 12630/12630 [00:47<00:00, 268.71it/s]\n"
     ]
    },
    {
     "name": "stdout",
     "output_type": "stream",
     "text": [
      "Written to csv file gtsrb_kaggle.csv\n"
     ]
    }
   ],
   "source": [
    "make_predictions(trainer.model, trainer.device)"
   ]
  },
  {
   "cell_type": "code",
   "execution_count": 22,
   "metadata": {},
   "outputs": [],
   "source": [
    "import pickle\n",
    "\n",
    "def save_results(obj):\n",
    "    with open(\"results.pkl\", \"wb\") as f:\n",
    "        pickle.dump(obj, f, pickle.HIGHEST_PROTOCOL)\n",
    "\n",
    "def load_results():\n",
    "    with open(\"results.pkl\", \"rb\") as f:\n",
    "        return pickle.load(f)\n",
    "    \n",
    "save_results(results)"
   ]
  },
  {
   "cell_type": "code",
   "execution_count": null,
   "metadata": {},
   "outputs": [],
   "source": []
  }
 ],
 "metadata": {
  "kernelspec": {
   "display_name": "Python [conda env:root] *",
   "language": "python",
   "name": "conda-root-py"
  },
  "language_info": {
   "codemirror_mode": {
    "name": "ipython",
    "version": 3
   },
   "file_extension": ".py",
   "mimetype": "text/x-python",
   "name": "python",
   "nbconvert_exporter": "python",
   "pygments_lexer": "ipython3",
   "version": "3.7.9"
  }
 },
 "nbformat": 4,
 "nbformat_minor": 4
}
