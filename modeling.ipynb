{
 "cells": [
  {
   "cell_type": "code",
   "execution_count": null,
   "metadata": {},
   "outputs": [],
   "source": [
    "import matplotlib.pyplot as plt\n",
    "import numpy as np\n",
    "import torch\n",
    "import torch.nn as nn\n",
    "import torch.nn.functional as F\n",
    "import torch.optim as optim\n",
    "import torchvision\n",
    "from torchvision import transforms\n",
    "\n",
    "from data import data_loaders, AddGaussianNoise\n",
    "from main import Trainer, make_predictions\n",
    "from models import resnet18, LabelSmoothingCrossEntropy\n",
    "\n",
    "SEED = 42\n",
    "\n",
    "torch.manual_seed(SEED);\n",
    "\n",
    "results = dict()"
   ]
  },
  {
   "cell_type": "code",
   "execution_count": null,
   "metadata": {},
   "outputs": [],
   "source": [
    "# Data parameters\n",
    "num_classes = 43\n",
    "batch_size = 128\n",
    "data_transforms = None  # Default\n",
    "\n",
    "train_loader, val_loader = data_loaders(batch_size, data_transforms)"
   ]
  },
  {
   "cell_type": "code",
   "execution_count": null,
   "metadata": {},
   "outputs": [],
   "source": [
    "# Training parameters\n",
    "resnet_variant = None  # Default\n",
    "epochs = 25\n",
    "criterion = nn.CrossEntropyLoss()\n",
    "lr = 0.001\n",
    "\n",
    "model = resnet18(variant=resnet_variant, num_classes=num_classes)\n",
    "\n",
    "trainer = Trainer(model, train_loader, val_loader, criterion, lr)\n",
    "trainer.run(epochs)\n",
    "\n",
    "results[\"config_1\"] = {\n",
    "    \"description\": \"Default ResNet, no data augmentation\",\n",
    "    \"train_loss\": trainer.train_loss,\n",
    "    \"test_loss\": trainer.test_loss,\n",
    "    \"test_accuracy\": trainer.test_accuracy\n",
    "}"
   ]
  },
  {
   "cell_type": "code",
   "execution_count": null,
   "metadata": {},
   "outputs": [],
   "source": [
    "# Data parameters\n",
    "num_classes = 43\n",
    "batch_size = 128\n",
    "data_transforms = transforms.Compose([\n",
    "    transforms.RandomResizedCrop((32, 32)),\n",
    "    transforms.ToTensor(),\n",
    "    AddGaussianNoise(),\n",
    "    transforms.Normalize((0.3337, 0.3064, 0.3171), (0.2672, 0.2564, 0.2629)),\n",
    "])\n",
    "\n",
    "train_loader, val_loader = data_loaders(batch_size, data_transforms)"
   ]
  },
  {
   "cell_type": "code",
   "execution_count": null,
   "metadata": {},
   "outputs": [],
   "source": [
    "# Training parameters\n",
    "resnet_variant = None  # Default\n",
    "epochs = 25\n",
    "criterion = nn.CrossEntropyLoss()\n",
    "lr = 0.001\n",
    "\n",
    "model = resnet18(variant=resnet_variant, num_classes=num_classes)\n",
    "\n",
    "trainer = Trainer(model, train_loader, val_loader, criterion, lr)\n",
    "trainer.run(epochs)\n",
    "\n",
    "results[\"config_2\"] = {\n",
    "    \"description\": \"Default ResNet, with data augmentation\",\n",
    "    \"train_loss\": trainer.train_loss,\n",
    "    \"test_loss\": trainer.test_loss,\n",
    "    \"test_accuracy\": trainer.test_accuracy\n",
    "}"
   ]
  },
  {
   "cell_type": "code",
   "execution_count": null,
   "metadata": {},
   "outputs": [],
   "source": [
    "# Training parameters\n",
    "resnet_variant = \"C\"\n",
    "epochs = 25\n",
    "criterion = nn.CrossEntropyLoss()\n",
    "lr = 0.001\n",
    "\n",
    "model = resnet18(variant=resnet_variant, num_classes=num_classes)\n",
    "\n",
    "trainer = Trainer(model, train_loader, val_loader, criterion, lr)\n",
    "trainer.run(epochs)\n",
    "\n",
    "results[\"config_3\"] = {\n",
    "    \"description\": \"ResNet-C, with data augmentation\",\n",
    "    \"train_loss\": trainer.train_loss,\n",
    "    \"test_loss\": trainer.test_loss,\n",
    "    \"test_accuracy\": trainer.test_accuracy\n",
    "}"
   ]
  },
  {
   "cell_type": "code",
   "execution_count": null,
   "metadata": {},
   "outputs": [],
   "source": [
    "# Training parameters\n",
    "resnet_variant = \"D\"\n",
    "epochs = 25\n",
    "criterion = nn.CrossEntropyLoss()\n",
    "lr = 0.001\n",
    "\n",
    "model = resnet18(variant=resnet_variant, num_classes=num_classes)\n",
    "\n",
    "trainer = Trainer(model, train_loader, val_loader, criterion, lr)\n",
    "trainer.run(epochs)\n",
    "\n",
    "results[\"config_4\"] = {\n",
    "    \"description\": \"ResNet-D, with data augmentation\",\n",
    "    \"train_loss\": trainer.train_loss,\n",
    "    \"test_loss\": trainer.test_loss,\n",
    "    \"test_accuracy\": trainer.test_accuracy\n",
    "}"
   ]
  },
  {
   "cell_type": "code",
   "execution_count": null,
   "metadata": {},
   "outputs": [],
   "source": []
  },
  {
   "cell_type": "code",
   "execution_count": null,
   "metadata": {},
   "outputs": [],
   "source": []
  },
  {
   "cell_type": "code",
   "execution_count": null,
   "metadata": {},
   "outputs": [],
   "source": []
  },
  {
   "cell_type": "code",
   "execution_count": null,
   "metadata": {},
   "outputs": [],
   "source": [
    "make_predictions(trainer.model, trainer.device)"
   ]
  }
 ],
 "metadata": {
  "kernelspec": {
   "display_name": "Python [conda env:root] *",
   "language": "python",
   "name": "conda-root-py"
  },
  "language_info": {
   "codemirror_mode": {
    "name": "ipython",
    "version": 3
   },
   "file_extension": ".py",
   "mimetype": "text/x-python",
   "name": "python",
   "nbconvert_exporter": "python",
   "pygments_lexer": "ipython3",
   "version": "3.7.9"
  }
 },
 "nbformat": 4,
 "nbformat_minor": 4
}
