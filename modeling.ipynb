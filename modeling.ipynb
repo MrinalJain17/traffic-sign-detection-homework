{
 "cells": [
  {
   "cell_type": "code",
   "execution_count": 1,
   "metadata": {},
   "outputs": [],
   "source": [
    "import numpy as np\n",
    "import matplotlib.pyplot as plt\n",
    "import torch\n",
    "import torch.nn as nn\n",
    "import torch.nn.functional as F\n",
    "import torch.optim as optim\n",
    "import torchvision\n",
    "from torchvision import transforms, models\n",
    "\n",
    "from data import data_loaders\n",
    "from main import Trainer, make_predictions\n",
    "\n",
    "SEED = 42\n",
    "\n",
    "torch.manual_seed(SEED);"
   ]
  },
  {
   "cell_type": "code",
   "execution_count": 2,
   "metadata": {},
   "outputs": [],
   "source": [
    "NUM_CLASSES = 43\n",
    "\n",
    "batch_size = 128\n",
    "data_transforms = None  # Will use the defaults\n",
    "epochs = 20\n",
    "lr = 0.001"
   ]
  },
  {
   "cell_type": "code",
   "execution_count": 3,
   "metadata": {},
   "outputs": [],
   "source": [
    "train_loader, val_loader = data_loaders(batch_size, data_transforms)"
   ]
  },
  {
   "cell_type": "code",
   "execution_count": 4,
   "metadata": {},
   "outputs": [
    {
     "name": "stdout",
     "output_type": "stream",
     "text": [
      "Train Epoch: 1 [0/35339 (0%)]\tLoss: 4.036314\n",
      "Train Epoch: 1 [12800/35339 (36%)]\tLoss: 0.436959\n",
      "Train Epoch: 1 [25600/35339 (72%)]\tLoss: 0.297980\n",
      "\n",
      "Test set: Average loss: 1.1395, Accuracy: 2630/3870 (68%)\n",
      "\n",
      "Train Epoch: 2 [0/35339 (0%)]\tLoss: 0.209198\n",
      "Train Epoch: 2 [12800/35339 (36%)]\tLoss: 0.140631\n",
      "Train Epoch: 2 [25600/35339 (72%)]\tLoss: 0.097176\n",
      "\n",
      "Test set: Average loss: 0.8060, Accuracy: 3065/3870 (79%)\n",
      "\n",
      "Train Epoch: 3 [0/35339 (0%)]\tLoss: 0.048617\n",
      "Train Epoch: 3 [12800/35339 (36%)]\tLoss: 0.042275\n",
      "Train Epoch: 3 [25600/35339 (72%)]\tLoss: 0.063093\n",
      "\n",
      "Test set: Average loss: 0.9976, Accuracy: 2953/3870 (76%)\n",
      "\n",
      "Train Epoch: 4 [0/35339 (0%)]\tLoss: 0.075048\n",
      "Train Epoch: 4 [12800/35339 (36%)]\tLoss: 0.026411\n",
      "Train Epoch: 4 [25600/35339 (72%)]\tLoss: 0.073555\n",
      "\n",
      "Test set: Average loss: 0.8426, Accuracy: 3181/3870 (82%)\n",
      "\n",
      "Train Epoch: 5 [0/35339 (0%)]\tLoss: 0.036942\n",
      "Train Epoch: 5 [12800/35339 (36%)]\tLoss: 0.049297\n",
      "Train Epoch: 5 [25600/35339 (72%)]\tLoss: 0.032010\n",
      "\n",
      "Test set: Average loss: 0.8063, Accuracy: 3167/3870 (82%)\n",
      "\n",
      "Train Epoch: 6 [0/35339 (0%)]\tLoss: 0.057399\n",
      "Train Epoch: 6 [12800/35339 (36%)]\tLoss: 0.022333\n",
      "Train Epoch: 6 [25600/35339 (72%)]\tLoss: 0.011658\n",
      "\n",
      "Test set: Average loss: 0.9529, Accuracy: 3164/3870 (82%)\n",
      "\n",
      "Train Epoch: 7 [0/35339 (0%)]\tLoss: 0.010891\n",
      "Train Epoch: 7 [12800/35339 (36%)]\tLoss: 0.053489\n",
      "Train Epoch: 7 [25600/35339 (72%)]\tLoss: 0.012076\n",
      "\n",
      "Test set: Average loss: 0.7242, Accuracy: 3241/3870 (84%)\n",
      "\n",
      "Train Epoch: 8 [0/35339 (0%)]\tLoss: 0.020731\n",
      "Train Epoch: 8 [12800/35339 (36%)]\tLoss: 0.003851\n",
      "Train Epoch: 8 [25600/35339 (72%)]\tLoss: 0.021037\n",
      "\n",
      "Test set: Average loss: 0.8333, Accuracy: 3212/3870 (83%)\n",
      "\n",
      "Train Epoch: 9 [0/35339 (0%)]\tLoss: 0.101744\n",
      "Train Epoch: 9 [12800/35339 (36%)]\tLoss: 0.002339\n",
      "Train Epoch: 9 [25600/35339 (72%)]\tLoss: 0.008662\n",
      "\n",
      "Test set: Average loss: 0.7075, Accuracy: 3326/3870 (86%)\n",
      "\n",
      "Train Epoch: 10 [0/35339 (0%)]\tLoss: 0.002630\n",
      "Train Epoch: 10 [12800/35339 (36%)]\tLoss: 0.026895\n",
      "Train Epoch: 10 [25600/35339 (72%)]\tLoss: 0.069051\n",
      "\n",
      "Test set: Average loss: 0.8114, Accuracy: 3247/3870 (84%)\n",
      "\n",
      "Train Epoch: 11 [0/35339 (0%)]\tLoss: 0.052976\n",
      "Train Epoch: 11 [12800/35339 (36%)]\tLoss: 0.005386\n",
      "Train Epoch: 11 [25600/35339 (72%)]\tLoss: 0.019560\n",
      "\n",
      "Test set: Average loss: 0.8533, Accuracy: 3189/3870 (82%)\n",
      "\n",
      "Train Epoch: 12 [0/35339 (0%)]\tLoss: 0.015645\n",
      "Train Epoch: 12 [12800/35339 (36%)]\tLoss: 0.035172\n",
      "Train Epoch: 12 [25600/35339 (72%)]\tLoss: 0.002285\n",
      "\n",
      "Test set: Average loss: 0.8470, Accuracy: 3225/3870 (83%)\n",
      "\n",
      "Train Epoch: 13 [0/35339 (0%)]\tLoss: 0.005343\n",
      "Train Epoch: 13 [12800/35339 (36%)]\tLoss: 0.082438\n",
      "Train Epoch: 13 [25600/35339 (72%)]\tLoss: 0.024195\n",
      "\n",
      "Test set: Average loss: 0.6820, Accuracy: 3261/3870 (84%)\n",
      "\n",
      "Train Epoch: 14 [0/35339 (0%)]\tLoss: 0.025663\n",
      "Train Epoch: 14 [12800/35339 (36%)]\tLoss: 0.009469\n",
      "Train Epoch: 14 [25600/35339 (72%)]\tLoss: 0.026974\n",
      "\n",
      "Test set: Average loss: 0.5821, Accuracy: 3398/3870 (88%)\n",
      "\n",
      "Train Epoch: 15 [0/35339 (0%)]\tLoss: 0.023694\n",
      "Train Epoch: 15 [12800/35339 (36%)]\tLoss: 0.009688\n",
      "Train Epoch: 15 [25600/35339 (72%)]\tLoss: 0.002147\n",
      "\n",
      "Test set: Average loss: 0.5811, Accuracy: 3384/3870 (87%)\n",
      "\n",
      "Train Epoch: 16 [0/35339 (0%)]\tLoss: 0.007305\n",
      "Train Epoch: 16 [12800/35339 (36%)]\tLoss: 0.047504\n",
      "Train Epoch: 16 [25600/35339 (72%)]\tLoss: 0.020563\n",
      "\n",
      "Test set: Average loss: 0.6177, Accuracy: 3376/3870 (87%)\n",
      "\n",
      "Train Epoch: 17 [0/35339 (0%)]\tLoss: 0.017790\n",
      "Train Epoch: 17 [12800/35339 (36%)]\tLoss: 0.057175\n",
      "Train Epoch: 17 [25600/35339 (72%)]\tLoss: 0.003038\n",
      "\n",
      "Test set: Average loss: 0.6362, Accuracy: 3363/3870 (87%)\n",
      "\n",
      "Train Epoch: 18 [0/35339 (0%)]\tLoss: 0.024484\n",
      "Train Epoch: 18 [12800/35339 (36%)]\tLoss: 0.027246\n",
      "Train Epoch: 18 [25600/35339 (72%)]\tLoss: 0.012671\n",
      "\n",
      "Test set: Average loss: 0.5640, Accuracy: 3444/3870 (89%)\n",
      "\n",
      "Train Epoch: 19 [0/35339 (0%)]\tLoss: 0.011250\n",
      "Train Epoch: 19 [12800/35339 (36%)]\tLoss: 0.029291\n",
      "Train Epoch: 19 [25600/35339 (72%)]\tLoss: 0.000152\n",
      "\n",
      "Test set: Average loss: 0.5082, Accuracy: 3440/3870 (89%)\n",
      "\n",
      "Train Epoch: 20 [0/35339 (0%)]\tLoss: 0.006884\n",
      "Train Epoch: 20 [12800/35339 (36%)]\tLoss: 0.023062\n",
      "Train Epoch: 20 [25600/35339 (72%)]\tLoss: 0.008681\n",
      "\n",
      "Test set: Average loss: 0.5148, Accuracy: 3500/3870 (90%)\n",
      "\n"
     ]
    }
   ],
   "source": [
    "model = models.resnet18(num_classes=NUM_CLASSES)\n",
    "\n",
    "trainer = Trainer(model, train_loader, val_loader, lr)\n",
    "trainer.run(epochs)"
   ]
  },
  {
   "cell_type": "code",
   "execution_count": 5,
   "metadata": {},
   "outputs": [
    {
     "name": "stderr",
     "output_type": "stream",
     "text": [
      "100%|██████████| 12630/12630 [00:47<00:00, 268.40it/s]"
     ]
    },
    {
     "name": "stdout",
     "output_type": "stream",
     "text": [
      "Written to csv file gtsrb_kaggle.csv\n"
     ]
    },
    {
     "name": "stderr",
     "output_type": "stream",
     "text": [
      "\n"
     ]
    }
   ],
   "source": [
    "make_predictions(trainer.model, trainer.device)"
   ]
  },
  {
   "cell_type": "code",
   "execution_count": null,
   "metadata": {},
   "outputs": [],
   "source": []
  }
 ],
 "metadata": {
  "kernelspec": {
   "display_name": "Python [conda env:root] *",
   "language": "python",
   "name": "conda-root-py"
  },
  "language_info": {
   "codemirror_mode": {
    "name": "ipython",
    "version": 3
   },
   "file_extension": ".py",
   "mimetype": "text/x-python",
   "name": "python",
   "nbconvert_exporter": "python",
   "pygments_lexer": "ipython3",
   "version": "3.7.7"
  }
 },
 "nbformat": 4,
 "nbformat_minor": 4
}
